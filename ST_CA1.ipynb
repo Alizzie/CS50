{
  "nbformat": 4,
  "nbformat_minor": 0,
  "metadata": {
    "colab": {
      "provenance": [],
      "gpuType": "T4",
      "authorship_tag": "ABX9TyMkKHXNO0xF81G9r6Sj5w7A",
      "include_colab_link": true
    },
    "kernelspec": {
      "name": "python3",
      "display_name": "Python 3"
    },
    "language_info": {
      "name": "python"
    },
    "accelerator": "GPU"
  },
  "cells": [
    {
      "cell_type": "markdown",
      "metadata": {
        "id": "view-in-github",
        "colab_type": "text"
      },
      "source": [
        "<a href=\"https://colab.research.google.com/github/Alizzie/CS50/blob/main/ST_CA1.ipynb\" target=\"_parent\"><img src=\"https://colab.research.google.com/assets/colab-badge.svg\" alt=\"Open In Colab\"/></a>"
      ]
    },
    {
      "cell_type": "code",
      "execution_count": 74,
      "metadata": {
        "id": "rupRjMS1QMnN"
      },
      "outputs": [],
      "source": [
        "import requests\n",
        "import numpy as np\n",
        "import tensorflow as tf\n",
        "from pathlib import Path\n",
        "import pickle\n",
        "from collections import Counter"
      ]
    },
    {
      "cell_type": "code",
      "source": [
        "np.random.seed(0)"
      ],
      "metadata": {
        "id": "YFmEFh2MUnhI"
      },
      "execution_count": 75,
      "outputs": []
    },
    {
      "cell_type": "code",
      "source": [
        "def download_datasets(url, dataset_name):\n",
        "    path_to_zip = tf.keras.utils.get_file(\n",
        "        fname=f\"{dataset_name}.tar.gz\",\n",
        "        origin=url,\n",
        "        extract=True)\n",
        "\n",
        "    path_to_zip = Path(path_to_zip)\n",
        "    path = path_to_zip.parent / dataset_name\n",
        "    return path_to_zip, path"
      ],
      "metadata": {
        "id": "b6lDxY2qT2fa"
      },
      "execution_count": 76,
      "outputs": []
    },
    {
      "cell_type": "code",
      "source": [
        "# Copy from https://www.cs.toronto.edu/~kriz/cifar.html\n",
        "def unpickle(file):\n",
        "    with open(file, 'rb') as fo:\n",
        "        dict = pickle.load(fo, encoding='bytes')\n",
        "    return dict"
      ],
      "metadata": {
        "id": "q6Nr3Iu_V8Lm"
      },
      "execution_count": 77,
      "outputs": []
    },
    {
      "cell_type": "code",
      "source": [
        "def extract_batches(path, batchname):\n",
        "    batch_dic = unpickle(str(path / batchname))\n",
        "    batch_labels = batch_dic.get(b'labels')\n",
        "    batch_images = batch_dic.get(b'data')\n",
        "    batch_filenames = batch_dic.get(b'filenames')\n",
        "\n",
        "    print(f'{batchname}:')\n",
        "    print(batch_images.shape) # image as 3072 byte, 1024 each rgb channel\n",
        "\n",
        "    assert((len(batch_labels) == 10000)), 'labels contains not all 10000 labels'\n",
        "    assert((len(batch_images) == 10000)), 'images contains not all 10000 images'\n",
        "    assert((batch_images.shape[1] == 3072)), 'images are not in 3072 bytes'\n",
        "    assert((len(batch_filenames) == 10000)), 'filenames contains not all 10000 filenames'\n",
        "\n",
        "    for number, count in Counter(batch_labels).items():\n",
        "        print(f\"Number {number}: {count} occurrences\")\n",
        "    return batch_labels, batch_images, batch_filenames"
      ],
      "metadata": {
        "id": "eN5Re4HLC7cP"
      },
      "execution_count": 78,
      "outputs": []
    },
    {
      "cell_type": "code",
      "source": [
        "def get_class_labels_number(class_names, dic):\n",
        "    labels = dic.get(b'label_names')\n",
        "    labels = list(map(lambda x: x.decode('utf-8'), labels))\n",
        "    labels_nr = [index for index, value in enumerate(labels) if value in class_names]\n",
        "    return labels_nr"
      ],
      "metadata": {
        "id": "lR3qu9zaQ79K"
      },
      "execution_count": 79,
      "outputs": []
    },
    {
      "cell_type": "code",
      "source": [
        "def filter_class(classes, labels, images, filenames):\n",
        "    filtered_labels = [label for label in labels if label in classes]\n",
        "    filtered_images = [images[labels == cls] for cls in classes]\n",
        "    filtered_filenames = [filenames[labels == cls] for cls in classes]\n",
        "    return np.array(filtered_labels), np.array(filtered_images), np.array(filtered_filenames)"
      ],
      "metadata": {
        "id": "B2f0mcA-TfdV"
      },
      "execution_count": 80,
      "outputs": []
    },
    {
      "cell_type": "code",
      "source": [
        "cifar10_url = 'https://www.cs.toronto.edu/~kriz/cifar-10-python.tar.gz'\n",
        "zip, cifar10_path = download_datasets(cifar10_url, 'cifar-10-batches-py')"
      ],
      "metadata": {
        "id": "l8WINJELVAW3"
      },
      "execution_count": 81,
      "outputs": []
    },
    {
      "cell_type": "code",
      "source": [
        "# class_labels: 1, 2, 3, 4, 5, 7, 9\n",
        "cifar10_dic_file = 'batches.meta'\n",
        "cifar10_dic = unpickle(str(cifar10_path / label_dic_file))\n",
        "selected_cifar10_classes = get_class_labels_number(['automobile', 'bird',  'cat', 'deer', 'dog', 'horse', 'truck'], label_dic)\n",
        "print(selected_cifar10_classes)"
      ],
      "metadata": {
        "colab": {
          "base_uri": "https://localhost:8080/"
        },
        "id": "b56jB0muevOx",
        "outputId": "7a679f84-44cf-49ad-f0c0-cefca2135099"
      },
      "execution_count": 82,
      "outputs": [
        {
          "output_type": "stream",
          "name": "stdout",
          "text": [
            "[1, 2, 3, 4, 5, 7, 9]\n"
          ]
        }
      ]
    },
    {
      "cell_type": "code",
      "source": [
        "## Test batch overview for one batch firsts\n",
        "#   filename = 'data_batch_1'\n",
        "#   batch_1_dic = unpickle(str(cifar10_path / filename))\n",
        "# Overview of dic structure\n",
        "#print(type(batch_1_dic), len(batch_1_dic))\n",
        "#for key, value in batch_1_dic.items():\n",
        "#    print(f\"Key: {key}, Type: {type(key)}\")\n",
        "#    print(f\"Value: {value}, Type: {type(value)}\")"
      ],
      "metadata": {
        "id": "aek_EozLcxPn"
      },
      "execution_count": 83,
      "outputs": []
    },
    {
      "cell_type": "code",
      "source": [
        "cifar10_labels = []\n",
        "cifar10_images = []\n",
        "cifar10_filenames = []\n",
        "batchnames = ['data_batch_1', 'data_batch_2', 'data_batch_3', 'data_batch_4', 'data_batch_5']\n",
        "\n",
        "for name in batchnames:\n",
        "    labels, images, filenames = extract_batches(cifar10_path, name)\n",
        "    cifar10_labels.extend(labels)\n",
        "    cifar10_images.extend(images)\n",
        "    cifar10_filenames.extend(filenames)\n",
        "\n",
        "assert((len(cifar10_labels) == 50000)), 'labels contains not all 50000 labels'\n",
        "assert((len(cifar10_images) == 50000)), 'images contains not all 50000 images'\n",
        "assert((len(cifar10_filenames) == 50000)), 'filenames contains not all 50000 filenames'\n",
        "\n",
        "cifar10_labels = np.array(cifar10_labels)\n",
        "cifar10_images = np.array(cifar10_images)\n",
        "cifar10_filenames = np.array(cifar10_filenames)"
      ],
      "metadata": {
        "colab": {
          "base_uri": "https://localhost:8080/"
        },
        "id": "6P86L-q-EZ-r",
        "outputId": "5c0ec8ea-f332-4a25-c600-2172ff502bd9"
      },
      "execution_count": 84,
      "outputs": [
        {
          "output_type": "stream",
          "name": "stdout",
          "text": [
            "data_batch_1:\n",
            "(10000, 3072)\n",
            "Number 6: 1030 occurrences\n",
            "Number 9: 981 occurrences\n",
            "Number 4: 999 occurrences\n",
            "Number 1: 974 occurrences\n",
            "Number 2: 1032 occurrences\n",
            "Number 7: 1001 occurrences\n",
            "Number 8: 1025 occurrences\n",
            "Number 3: 1016 occurrences\n",
            "Number 5: 937 occurrences\n",
            "Number 0: 1005 occurrences\n",
            "data_batch_2:\n",
            "(10000, 3072)\n",
            "Number 1: 1007 occurrences\n",
            "Number 6: 1008 occurrences\n",
            "Number 8: 987 occurrences\n",
            "Number 3: 995 occurrences\n",
            "Number 4: 1010 occurrences\n",
            "Number 0: 984 occurrences\n",
            "Number 5: 988 occurrences\n",
            "Number 2: 1010 occurrences\n",
            "Number 7: 1026 occurrences\n",
            "Number 9: 985 occurrences\n",
            "data_batch_3:\n",
            "(10000, 3072)\n",
            "Number 8: 961 occurrences\n",
            "Number 5: 1029 occurrences\n",
            "Number 0: 994 occurrences\n",
            "Number 6: 978 occurrences\n",
            "Number 9: 1029 occurrences\n",
            "Number 2: 965 occurrences\n",
            "Number 3: 997 occurrences\n",
            "Number 7: 1015 occurrences\n",
            "Number 4: 990 occurrences\n",
            "Number 1: 1042 occurrences\n",
            "data_batch_4:\n",
            "(10000, 3072)\n",
            "Number 0: 1003 occurrences\n",
            "Number 6: 1004 occurrences\n",
            "Number 2: 1041 occurrences\n",
            "Number 7: 981 occurrences\n",
            "Number 1: 963 occurrences\n",
            "Number 4: 1004 occurrences\n",
            "Number 5: 1021 occurrences\n",
            "Number 3: 976 occurrences\n",
            "Number 8: 1024 occurrences\n",
            "Number 9: 983 occurrences\n",
            "data_batch_5:\n",
            "(10000, 3072)\n",
            "Number 1: 1014 occurrences\n",
            "Number 8: 1003 occurrences\n",
            "Number 5: 1025 occurrences\n",
            "Number 7: 977 occurrences\n",
            "Number 4: 997 occurrences\n",
            "Number 3: 1016 occurrences\n",
            "Number 2: 952 occurrences\n",
            "Number 0: 1014 occurrences\n",
            "Number 9: 1022 occurrences\n",
            "Number 6: 980 occurrences\n"
          ]
        }
      ]
    },
    {
      "cell_type": "code",
      "source": [
        "cifar10_labels, cifar10_images, cifar10_filenames = filter_class(selected_cifar10_classes, cifar10_labels, cifar10_images, cifar10_filenames)\n",
        "print(set(cifar10_labels))\n",
        "print(cifar10_labels.shape)\n",
        "print(cifar10_images.shape)\n",
        "print(cifar10_filenames.shape)"
      ],
      "metadata": {
        "colab": {
          "base_uri": "https://localhost:8080/"
        },
        "id": "BArBheasN84L",
        "outputId": "9d0a8e44-a32f-4252-d3cc-3aa92f995724"
      },
      "execution_count": 85,
      "outputs": [
        {
          "output_type": "stream",
          "name": "stdout",
          "text": [
            "{1, 2, 3, 4, 5, 7, 9}\n",
            "(35000,)\n",
            "(7, 5000, 3072)\n",
            "(7, 5000)\n"
          ]
        }
      ]
    },
    {
      "cell_type": "code",
      "source": [
        "# TODO :\n",
        "# First merge all datasets\n",
        "# Load images to rgb\n",
        "# get overview of images: number for each label, look of images"
      ],
      "metadata": {
        "id": "YRLou-kgjAtw"
      },
      "execution_count": 86,
      "outputs": []
    }
  ]
}